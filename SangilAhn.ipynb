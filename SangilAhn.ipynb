{
  "nbformat": 4,
  "nbformat_minor": 0,
  "metadata": {
    "colab": {
      "name": "SangilAhn.ipynb",
      "provenance": [],
      "collapsed_sections": []
    },
    "kernelspec": {
      "name": "python3",
      "display_name": "Python 3"
    },
    "language_info": {
      "name": "python"
    }
  },
  "cells": [
    {
      "cell_type": "markdown",
      "source": [
        "# My Jupyter Notebook on IBM Studio."
      ],
      "metadata": {
        "id": "2LbQDhEG3KXo"
      }
    },
    {
      "cell_type": "markdown",
      "source": [
        "### **Sangil Ahn, Electrical Engineer**"
      ],
      "metadata": {
        "id": "orbrE2Ix3yRs"
      }
    },
    {
      "cell_type": "markdown",
      "source": [
        "### *I am interested in data science, because it gives me many insights.*"
      ],
      "metadata": {
        "id": "N1GLHPHy4K8F"
      }
    },
    {
      "cell_type": "markdown",
      "source": [
        "### The below should print 'Hello, World!'"
      ],
      "metadata": {
        "id": "Bo3HkvKr4TOW"
      }
    },
    {
      "cell_type": "code",
      "source": [
        "print('Hello, World!')"
      ],
      "metadata": {
        "colab": {
          "base_uri": "https://localhost:8080/"
        },
        "id": "JZpAmUedLd8F",
        "outputId": "6650bc10-e8c2-465e-9cd1-d26a8d112b23"
      },
      "execution_count": 1,
      "outputs": [
        {
          "output_type": "stream",
          "name": "stdout",
          "text": [
            "Hello, World!\n"
          ]
        }
      ]
    },
    {
      "cell_type": "markdown",
      "source": [
        "- The famous movie I recommend\n",
        "  1. Moneyball ([Link] (https://en.wikipedia.org/wiki/Moneyball_(film)) )\n",
        "  2. Furious Series\n",
        "  3. Ocean's Eleven"
      ],
      "metadata": {
        "id": "U3EgcCHXMZ57"
      }
    },
    {
      "cell_type": "code",
      "source": [
        ""
      ],
      "metadata": {
        "id": "KGRFjBXMMWRA"
      },
      "execution_count": null,
      "outputs": []
    }
  ]
}